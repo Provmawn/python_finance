{
 "cells": [
  {
   "cell_type": "code",
   "execution_count": 2,
   "id": "afa1b867",
   "metadata": {},
   "outputs": [],
   "source": [
    "import numpy as np\n",
    "import pandas as pd\n",
    "import matplotlib.pyplot as plt\n",
    "from datetime import datetime"
   ]
  },
  {
   "cell_type": "code",
   "execution_count": 3,
   "id": "926fa84c",
   "metadata": {},
   "outputs": [],
   "source": [
    "myyear = 2021\n",
    "mymonth = 10\n",
    "myday = 30\n",
    "myhour = 15\n",
    "mymin = 35\n",
    "mysec = 3"
   ]
  },
  {
   "cell_type": "code",
   "execution_count": 4,
   "id": "dfab4e22",
   "metadata": {},
   "outputs": [],
   "source": [
    "mydate = datetime(myyear, mymonth, myday)"
   ]
  },
  {
   "cell_type": "code",
   "execution_count": 5,
   "id": "1b2f7d62",
   "metadata": {},
   "outputs": [
    {
     "data": {
      "text/plain": [
       "datetime.datetime(2021, 10, 30, 0, 0)"
      ]
     },
     "execution_count": 5,
     "metadata": {},
     "output_type": "execute_result"
    }
   ],
   "source": [
    "mydate"
   ]
  },
  {
   "cell_type": "code",
   "execution_count": 9,
   "id": "e2ab2212",
   "metadata": {},
   "outputs": [],
   "source": [
    "mydatetime = datetime(myyear, mymonth, myday, myhour, mymin, mysec)"
   ]
  },
  {
   "cell_type": "code",
   "execution_count": 10,
   "id": "cd079c57",
   "metadata": {},
   "outputs": [
    {
     "data": {
      "text/plain": [
       "datetime.datetime(2021, 10, 30, 15, 35, 3)"
      ]
     },
     "execution_count": 10,
     "metadata": {},
     "output_type": "execute_result"
    }
   ],
   "source": [
    "mydatetime"
   ]
  },
  {
   "cell_type": "code",
   "execution_count": 11,
   "id": "61cc719e",
   "metadata": {},
   "outputs": [
    {
     "data": {
      "text/plain": [
       "2021"
      ]
     },
     "execution_count": 11,
     "metadata": {},
     "output_type": "execute_result"
    }
   ],
   "source": [
    "mydatetime.year"
   ]
  },
  {
   "cell_type": "code",
   "execution_count": 12,
   "id": "23db73c7",
   "metadata": {},
   "outputs": [],
   "source": [
    "myser = pd.Series(['Nov 3, 1990', '2000-01-01', None])"
   ]
  },
  {
   "cell_type": "code",
   "execution_count": 13,
   "id": "b4862ba6",
   "metadata": {},
   "outputs": [
    {
     "data": {
      "text/plain": [
       "0    Nov 3, 1990\n",
       "1     2000-01-01\n",
       "2           None\n",
       "dtype: object"
      ]
     },
     "execution_count": 13,
     "metadata": {},
     "output_type": "execute_result"
    }
   ],
   "source": [
    "myser"
   ]
  },
  {
   "cell_type": "code",
   "execution_count": 16,
   "id": "2f0f8e80",
   "metadata": {},
   "outputs": [],
   "source": [
    "timeser = pd.to_datetime(myser)"
   ]
  },
  {
   "cell_type": "code",
   "execution_count": 17,
   "id": "107efcbb",
   "metadata": {},
   "outputs": [
    {
     "data": {
      "text/plain": [
       "0   1990-11-03\n",
       "1   2000-01-01\n",
       "2          NaT\n",
       "dtype: datetime64[ns]"
      ]
     },
     "execution_count": 17,
     "metadata": {},
     "output_type": "execute_result"
    }
   ],
   "source": [
    "timeser"
   ]
  },
  {
   "cell_type": "code",
   "execution_count": 18,
   "id": "f4e6ef34",
   "metadata": {},
   "outputs": [
    {
     "data": {
      "text/plain": [
       "1990"
      ]
     },
     "execution_count": 18,
     "metadata": {},
     "output_type": "execute_result"
    }
   ],
   "source": [
    "timeser[0].year"
   ]
  },
  {
   "cell_type": "code",
   "execution_count": 20,
   "id": "58184de5",
   "metadata": {},
   "outputs": [
    {
     "data": {
      "text/plain": [
       "2000"
      ]
     },
     "execution_count": 20,
     "metadata": {},
     "output_type": "execute_result"
    }
   ],
   "source": [
    "timeser[1].year"
   ]
  },
  {
   "cell_type": "code",
   "execution_count": 21,
   "id": "d072ab71",
   "metadata": {},
   "outputs": [],
   "source": [
    "euro_date = '31-12-2000'"
   ]
  },
  {
   "cell_type": "code",
   "execution_count": 22,
   "id": "46ef37c8",
   "metadata": {},
   "outputs": [
    {
     "data": {
      "text/plain": [
       "Timestamp('2000-12-31 00:00:00')"
      ]
     },
     "execution_count": 22,
     "metadata": {},
     "output_type": "execute_result"
    }
   ],
   "source": [
    "pd.to_datetime(euro_date)"
   ]
  },
  {
   "cell_type": "code",
   "execution_count": 23,
   "id": "9f6f56bb",
   "metadata": {},
   "outputs": [],
   "source": [
    "euro_date = '10-12-2000'"
   ]
  },
  {
   "cell_type": "code",
   "execution_count": 24,
   "id": "ac095300",
   "metadata": {},
   "outputs": [
    {
     "data": {
      "text/plain": [
       "Timestamp('2000-12-10 00:00:00')"
      ]
     },
     "execution_count": 24,
     "metadata": {},
     "output_type": "execute_result"
    }
   ],
   "source": [
    "pd.to_datetime(euro_date, dayfirst=True)"
   ]
  },
  {
   "cell_type": "code",
   "execution_count": 25,
   "id": "557f9874",
   "metadata": {},
   "outputs": [],
   "source": [
    "style_date = '12--Dec--2000'"
   ]
  },
  {
   "cell_type": "code",
   "execution_count": 26,
   "id": "d0474855",
   "metadata": {},
   "outputs": [
    {
     "data": {
      "text/plain": [
       "Timestamp('2000-12-12 00:00:00')"
      ]
     },
     "execution_count": 26,
     "metadata": {},
     "output_type": "execute_result"
    }
   ],
   "source": [
    "pd.to_datetime(style_date, format='%d--%b--%Y')"
   ]
  },
  {
   "cell_type": "code",
   "execution_count": 28,
   "id": "e4d7c999",
   "metadata": {},
   "outputs": [],
   "source": [
    "custom_date = \"12th of Dec 2000\""
   ]
  },
  {
   "cell_type": "code",
   "execution_count": 29,
   "id": "e8ba984c",
   "metadata": {},
   "outputs": [
    {
     "data": {
      "text/plain": [
       "Timestamp('2000-12-12 00:00:00')"
      ]
     },
     "execution_count": 29,
     "metadata": {},
     "output_type": "execute_result"
    }
   ],
   "source": [
    "pd.to_datetime(custom_date)"
   ]
  },
  {
   "cell_type": "code",
   "execution_count": 45,
   "id": "3287e692",
   "metadata": {},
   "outputs": [],
   "source": [
    "data = pd.read_csv('datasets/RSXFS.csv',parse_dates=[0])"
   ]
  },
  {
   "cell_type": "code",
   "execution_count": 46,
   "id": "94f5ca1b",
   "metadata": {},
   "outputs": [],
   "source": [
    "#data['DATE'] = pd.to_datetime(data['DATE'])"
   ]
  },
  {
   "cell_type": "code",
   "execution_count": 47,
   "id": "9c5ba53f",
   "metadata": {},
   "outputs": [
    {
     "data": {
      "text/plain": [
       "1"
      ]
     },
     "execution_count": 47,
     "metadata": {},
     "output_type": "execute_result"
    }
   ],
   "source": [
    "data['DATE'][0].day"
   ]
  },
  {
   "cell_type": "code",
   "execution_count": 51,
   "id": "ecd0d0f4",
   "metadata": {},
   "outputs": [],
   "source": [
    "data = data.set_index('DATE')"
   ]
  },
  {
   "cell_type": "code",
   "execution_count": 54,
   "id": "809d21f3",
   "metadata": {},
   "outputs": [
    {
     "data": {
      "text/html": [
       "<div>\n",
       "<style scoped>\n",
       "    .dataframe tbody tr th:only-of-type {\n",
       "        vertical-align: middle;\n",
       "    }\n",
       "\n",
       "    .dataframe tbody tr th {\n",
       "        vertical-align: top;\n",
       "    }\n",
       "\n",
       "    .dataframe thead th {\n",
       "        text-align: right;\n",
       "    }\n",
       "</style>\n",
       "<table border=\"1\" class=\"dataframe\">\n",
       "  <thead>\n",
       "    <tr style=\"text-align: right;\">\n",
       "      <th></th>\n",
       "      <th>RSXFS</th>\n",
       "    </tr>\n",
       "    <tr>\n",
       "      <th>DATE</th>\n",
       "      <th></th>\n",
       "    </tr>\n",
       "  </thead>\n",
       "  <tbody>\n",
       "    <tr>\n",
       "      <th>1992-12-31</th>\n",
       "      <td>150410.750000</td>\n",
       "    </tr>\n",
       "    <tr>\n",
       "      <th>1993-12-31</th>\n",
       "      <td>161358.666667</td>\n",
       "    </tr>\n",
       "    <tr>\n",
       "      <th>1994-12-31</th>\n",
       "      <td>175271.666667</td>\n",
       "    </tr>\n",
       "    <tr>\n",
       "      <th>1995-12-31</th>\n",
       "      <td>185017.833333</td>\n",
       "    </tr>\n",
       "    <tr>\n",
       "      <th>1996-12-31</th>\n",
       "      <td>196312.166667</td>\n",
       "    </tr>\n",
       "    <tr>\n",
       "      <th>1997-12-31</th>\n",
       "      <td>205897.666667</td>\n",
       "    </tr>\n",
       "    <tr>\n",
       "      <th>1998-12-31</th>\n",
       "      <td>215221.000000</td>\n",
       "    </tr>\n",
       "    <tr>\n",
       "      <th>1999-12-31</th>\n",
       "      <td>233451.333333</td>\n",
       "    </tr>\n",
       "    <tr>\n",
       "      <th>2000-12-31</th>\n",
       "      <td>248282.083333</td>\n",
       "    </tr>\n",
       "    <tr>\n",
       "      <th>2001-12-31</th>\n",
       "      <td>255179.416667</td>\n",
       "    </tr>\n",
       "    <tr>\n",
       "      <th>2002-12-31</th>\n",
       "      <td>260801.416667</td>\n",
       "    </tr>\n",
       "    <tr>\n",
       "      <th>2003-12-31</th>\n",
       "      <td>271801.166667</td>\n",
       "    </tr>\n",
       "    <tr>\n",
       "      <th>2004-12-31</th>\n",
       "      <td>288407.000000</td>\n",
       "    </tr>\n",
       "    <tr>\n",
       "      <th>2005-12-31</th>\n",
       "      <td>307215.000000</td>\n",
       "    </tr>\n",
       "    <tr>\n",
       "      <th>2006-12-31</th>\n",
       "      <td>323046.750000</td>\n",
       "    </tr>\n",
       "    <tr>\n",
       "      <th>2007-12-31</th>\n",
       "      <td>333113.000000</td>\n",
       "    </tr>\n",
       "    <tr>\n",
       "      <th>2008-12-31</th>\n",
       "      <td>327303.000000</td>\n",
       "    </tr>\n",
       "    <tr>\n",
       "      <th>2009-12-31</th>\n",
       "      <td>301082.333333</td>\n",
       "    </tr>\n",
       "    <tr>\n",
       "      <th>2010-12-31</th>\n",
       "      <td>318046.500000</td>\n",
       "    </tr>\n",
       "    <tr>\n",
       "      <th>2011-12-31</th>\n",
       "      <td>341832.500000</td>\n",
       "    </tr>\n",
       "    <tr>\n",
       "      <th>2012-12-31</th>\n",
       "      <td>358086.333333</td>\n",
       "    </tr>\n",
       "    <tr>\n",
       "      <th>2013-12-31</th>\n",
       "      <td>371632.166667</td>\n",
       "    </tr>\n",
       "    <tr>\n",
       "      <th>2014-12-31</th>\n",
       "      <td>386376.166667</td>\n",
       "    </tr>\n",
       "    <tr>\n",
       "      <th>2015-12-31</th>\n",
       "      <td>393675.333333</td>\n",
       "    </tr>\n",
       "    <tr>\n",
       "      <th>2016-12-31</th>\n",
       "      <td>402714.666667</td>\n",
       "    </tr>\n",
       "    <tr>\n",
       "      <th>2017-12-31</th>\n",
       "      <td>420494.583333</td>\n",
       "    </tr>\n",
       "    <tr>\n",
       "      <th>2018-12-31</th>\n",
       "      <td>438027.666667</td>\n",
       "    </tr>\n",
       "    <tr>\n",
       "      <th>2019-12-31</th>\n",
       "      <td>450971.833333</td>\n",
       "    </tr>\n",
       "    <tr>\n",
       "      <th>2020-12-31</th>\n",
       "      <td>464984.583333</td>\n",
       "    </tr>\n",
       "    <tr>\n",
       "      <th>2021-12-31</th>\n",
       "      <td>544089.000000</td>\n",
       "    </tr>\n",
       "  </tbody>\n",
       "</table>\n",
       "</div>"
      ],
      "text/plain": [
       "                    RSXFS\n",
       "DATE                     \n",
       "1992-12-31  150410.750000\n",
       "1993-12-31  161358.666667\n",
       "1994-12-31  175271.666667\n",
       "1995-12-31  185017.833333\n",
       "1996-12-31  196312.166667\n",
       "1997-12-31  205897.666667\n",
       "1998-12-31  215221.000000\n",
       "1999-12-31  233451.333333\n",
       "2000-12-31  248282.083333\n",
       "2001-12-31  255179.416667\n",
       "2002-12-31  260801.416667\n",
       "2003-12-31  271801.166667\n",
       "2004-12-31  288407.000000\n",
       "2005-12-31  307215.000000\n",
       "2006-12-31  323046.750000\n",
       "2007-12-31  333113.000000\n",
       "2008-12-31  327303.000000\n",
       "2009-12-31  301082.333333\n",
       "2010-12-31  318046.500000\n",
       "2011-12-31  341832.500000\n",
       "2012-12-31  358086.333333\n",
       "2013-12-31  371632.166667\n",
       "2014-12-31  386376.166667\n",
       "2015-12-31  393675.333333\n",
       "2016-12-31  402714.666667\n",
       "2017-12-31  420494.583333\n",
       "2018-12-31  438027.666667\n",
       "2019-12-31  450971.833333\n",
       "2020-12-31  464984.583333\n",
       "2021-12-31  544089.000000"
      ]
     },
     "execution_count": 54,
     "metadata": {},
     "output_type": "execute_result"
    }
   ],
   "source": [
    "data.resample(rule='A').mean()"
   ]
  },
  {
   "cell_type": "code",
   "execution_count": null,
   "id": "eed648b2",
   "metadata": {},
   "outputs": [],
   "source": []
  }
 ],
 "metadata": {
  "kernelspec": {
   "display_name": "Python 3 (ipykernel)",
   "language": "python",
   "name": "python3"
  },
  "language_info": {
   "codemirror_mode": {
    "name": "ipython",
    "version": 3
   },
   "file_extension": ".py",
   "mimetype": "text/x-python",
   "name": "python",
   "nbconvert_exporter": "python",
   "pygments_lexer": "ipython3",
   "version": "3.9.7"
  }
 },
 "nbformat": 4,
 "nbformat_minor": 5
}
