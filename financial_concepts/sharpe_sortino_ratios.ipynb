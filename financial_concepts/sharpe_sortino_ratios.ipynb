{
 "cells": [
  {
   "cell_type": "code",
   "execution_count": 2,
   "id": "41a99f6d",
   "metadata": {},
   "outputs": [],
   "source": [
    "import pandas_datareader.data as web"
   ]
  },
  {
   "cell_type": "code",
   "execution_count": 68,
   "id": "5f39bfbc",
   "metadata": {},
   "outputs": [],
   "source": [
    "aapl_df = web.DataReader('AAPL', 'yahoo', start='2020-06-01', end='2021-06-01')"
   ]
  },
  {
   "cell_type": "code",
   "execution_count": 69,
   "id": "50d05443",
   "metadata": {},
   "outputs": [],
   "source": [
    "msft_df = web.DataReader('MSFT', 'yahoo', start='2020-06-01', end='2021-06-01')"
   ]
  },
  {
   "cell_type": "code",
   "execution_count": 70,
   "id": "673e8775",
   "metadata": {},
   "outputs": [
    {
     "data": {
      "text/html": [
       "<div>\n",
       "<style scoped>\n",
       "    .dataframe tbody tr th:only-of-type {\n",
       "        vertical-align: middle;\n",
       "    }\n",
       "\n",
       "    .dataframe tbody tr th {\n",
       "        vertical-align: top;\n",
       "    }\n",
       "\n",
       "    .dataframe thead th {\n",
       "        text-align: right;\n",
       "    }\n",
       "</style>\n",
       "<table border=\"1\" class=\"dataframe\">\n",
       "  <thead>\n",
       "    <tr style=\"text-align: right;\">\n",
       "      <th></th>\n",
       "      <th>High</th>\n",
       "      <th>Low</th>\n",
       "      <th>Open</th>\n",
       "      <th>Close</th>\n",
       "      <th>Volume</th>\n",
       "      <th>Adj Close</th>\n",
       "    </tr>\n",
       "    <tr>\n",
       "      <th>Date</th>\n",
       "      <th></th>\n",
       "      <th></th>\n",
       "      <th></th>\n",
       "      <th></th>\n",
       "      <th></th>\n",
       "      <th></th>\n",
       "    </tr>\n",
       "  </thead>\n",
       "  <tbody>\n",
       "    <tr>\n",
       "      <th>2020-06-01</th>\n",
       "      <td>80.587502</td>\n",
       "      <td>79.302498</td>\n",
       "      <td>79.437500</td>\n",
       "      <td>80.462502</td>\n",
       "      <td>80791200.0</td>\n",
       "      <td>79.804398</td>\n",
       "    </tr>\n",
       "    <tr>\n",
       "      <th>2020-06-02</th>\n",
       "      <td>80.860001</td>\n",
       "      <td>79.732498</td>\n",
       "      <td>80.187500</td>\n",
       "      <td>80.834999</td>\n",
       "      <td>87642800.0</td>\n",
       "      <td>80.173859</td>\n",
       "    </tr>\n",
       "    <tr>\n",
       "      <th>2020-06-03</th>\n",
       "      <td>81.550003</td>\n",
       "      <td>80.574997</td>\n",
       "      <td>81.165001</td>\n",
       "      <td>81.279999</td>\n",
       "      <td>104491200.0</td>\n",
       "      <td>80.615211</td>\n",
       "    </tr>\n",
       "    <tr>\n",
       "      <th>2020-06-04</th>\n",
       "      <td>81.404999</td>\n",
       "      <td>80.195000</td>\n",
       "      <td>81.097504</td>\n",
       "      <td>80.580002</td>\n",
       "      <td>87560400.0</td>\n",
       "      <td>79.920929</td>\n",
       "    </tr>\n",
       "    <tr>\n",
       "      <th>2020-06-05</th>\n",
       "      <td>82.937500</td>\n",
       "      <td>80.807503</td>\n",
       "      <td>80.837502</td>\n",
       "      <td>82.875000</td>\n",
       "      <td>137250400.0</td>\n",
       "      <td>82.197166</td>\n",
       "    </tr>\n",
       "    <tr>\n",
       "      <th>...</th>\n",
       "      <td>...</td>\n",
       "      <td>...</td>\n",
       "      <td>...</td>\n",
       "      <td>...</td>\n",
       "      <td>...</td>\n",
       "      <td>...</td>\n",
       "    </tr>\n",
       "    <tr>\n",
       "      <th>2021-05-25</th>\n",
       "      <td>128.320007</td>\n",
       "      <td>126.320000</td>\n",
       "      <td>127.820000</td>\n",
       "      <td>126.900002</td>\n",
       "      <td>72009500.0</td>\n",
       "      <td>126.710159</td>\n",
       "    </tr>\n",
       "    <tr>\n",
       "      <th>2021-05-26</th>\n",
       "      <td>127.389999</td>\n",
       "      <td>126.419998</td>\n",
       "      <td>126.959999</td>\n",
       "      <td>126.849998</td>\n",
       "      <td>56575900.0</td>\n",
       "      <td>126.660225</td>\n",
       "    </tr>\n",
       "    <tr>\n",
       "      <th>2021-05-27</th>\n",
       "      <td>127.639999</td>\n",
       "      <td>125.080002</td>\n",
       "      <td>126.440002</td>\n",
       "      <td>125.279999</td>\n",
       "      <td>94625600.0</td>\n",
       "      <td>125.092575</td>\n",
       "    </tr>\n",
       "    <tr>\n",
       "      <th>2021-05-28</th>\n",
       "      <td>125.800003</td>\n",
       "      <td>124.550003</td>\n",
       "      <td>125.570000</td>\n",
       "      <td>124.610001</td>\n",
       "      <td>71311100.0</td>\n",
       "      <td>124.423584</td>\n",
       "    </tr>\n",
       "    <tr>\n",
       "      <th>2021-06-01</th>\n",
       "      <td>125.349998</td>\n",
       "      <td>123.940002</td>\n",
       "      <td>125.080002</td>\n",
       "      <td>124.279999</td>\n",
       "      <td>67637100.0</td>\n",
       "      <td>124.094070</td>\n",
       "    </tr>\n",
       "  </tbody>\n",
       "</table>\n",
       "<p>253 rows × 6 columns</p>\n",
       "</div>"
      ],
      "text/plain": [
       "                  High         Low        Open       Close       Volume  \\\n",
       "Date                                                                      \n",
       "2020-06-01   80.587502   79.302498   79.437500   80.462502   80791200.0   \n",
       "2020-06-02   80.860001   79.732498   80.187500   80.834999   87642800.0   \n",
       "2020-06-03   81.550003   80.574997   81.165001   81.279999  104491200.0   \n",
       "2020-06-04   81.404999   80.195000   81.097504   80.580002   87560400.0   \n",
       "2020-06-05   82.937500   80.807503   80.837502   82.875000  137250400.0   \n",
       "...                ...         ...         ...         ...          ...   \n",
       "2021-05-25  128.320007  126.320000  127.820000  126.900002   72009500.0   \n",
       "2021-05-26  127.389999  126.419998  126.959999  126.849998   56575900.0   \n",
       "2021-05-27  127.639999  125.080002  126.440002  125.279999   94625600.0   \n",
       "2021-05-28  125.800003  124.550003  125.570000  124.610001   71311100.0   \n",
       "2021-06-01  125.349998  123.940002  125.080002  124.279999   67637100.0   \n",
       "\n",
       "             Adj Close  \n",
       "Date                    \n",
       "2020-06-01   79.804398  \n",
       "2020-06-02   80.173859  \n",
       "2020-06-03   80.615211  \n",
       "2020-06-04   79.920929  \n",
       "2020-06-05   82.197166  \n",
       "...                ...  \n",
       "2021-05-25  126.710159  \n",
       "2021-05-26  126.660225  \n",
       "2021-05-27  125.092575  \n",
       "2021-05-28  124.423584  \n",
       "2021-06-01  124.094070  \n",
       "\n",
       "[253 rows x 6 columns]"
      ]
     },
     "execution_count": 70,
     "metadata": {},
     "output_type": "execute_result"
    }
   ],
   "source": [
    "aapl_df"
   ]
  },
  {
   "cell_type": "code",
   "execution_count": 71,
   "id": "fc56e262",
   "metadata": {},
   "outputs": [
    {
     "data": {
      "text/html": [
       "<div>\n",
       "<style scoped>\n",
       "    .dataframe tbody tr th:only-of-type {\n",
       "        vertical-align: middle;\n",
       "    }\n",
       "\n",
       "    .dataframe tbody tr th {\n",
       "        vertical-align: top;\n",
       "    }\n",
       "\n",
       "    .dataframe thead th {\n",
       "        text-align: right;\n",
       "    }\n",
       "</style>\n",
       "<table border=\"1\" class=\"dataframe\">\n",
       "  <thead>\n",
       "    <tr style=\"text-align: right;\">\n",
       "      <th></th>\n",
       "      <th>High</th>\n",
       "      <th>Low</th>\n",
       "      <th>Open</th>\n",
       "      <th>Close</th>\n",
       "      <th>Volume</th>\n",
       "      <th>Adj Close</th>\n",
       "    </tr>\n",
       "    <tr>\n",
       "      <th>Date</th>\n",
       "      <th></th>\n",
       "      <th></th>\n",
       "      <th></th>\n",
       "      <th></th>\n",
       "      <th></th>\n",
       "      <th></th>\n",
       "    </tr>\n",
       "  </thead>\n",
       "  <tbody>\n",
       "    <tr>\n",
       "      <th>2020-06-01</th>\n",
       "      <td>183.000000</td>\n",
       "      <td>181.460007</td>\n",
       "      <td>182.539993</td>\n",
       "      <td>182.830002</td>\n",
       "      <td>22622400.0</td>\n",
       "      <td>180.730728</td>\n",
       "    </tr>\n",
       "    <tr>\n",
       "      <th>2020-06-02</th>\n",
       "      <td>185.000000</td>\n",
       "      <td>181.350006</td>\n",
       "      <td>184.250000</td>\n",
       "      <td>184.910004</td>\n",
       "      <td>30794600.0</td>\n",
       "      <td>182.786850</td>\n",
       "    </tr>\n",
       "    <tr>\n",
       "      <th>2020-06-03</th>\n",
       "      <td>185.940002</td>\n",
       "      <td>183.580002</td>\n",
       "      <td>184.820007</td>\n",
       "      <td>185.360001</td>\n",
       "      <td>27311000.0</td>\n",
       "      <td>183.231674</td>\n",
       "    </tr>\n",
       "    <tr>\n",
       "      <th>2020-06-04</th>\n",
       "      <td>185.839996</td>\n",
       "      <td>182.300003</td>\n",
       "      <td>184.300003</td>\n",
       "      <td>182.919998</td>\n",
       "      <td>28761800.0</td>\n",
       "      <td>180.819687</td>\n",
       "    </tr>\n",
       "    <tr>\n",
       "      <th>2020-06-05</th>\n",
       "      <td>187.729996</td>\n",
       "      <td>182.009995</td>\n",
       "      <td>182.619995</td>\n",
       "      <td>187.199997</td>\n",
       "      <td>39893600.0</td>\n",
       "      <td>185.050537</td>\n",
       "    </tr>\n",
       "    <tr>\n",
       "      <th>...</th>\n",
       "      <td>...</td>\n",
       "      <td>...</td>\n",
       "      <td>...</td>\n",
       "      <td>...</td>\n",
       "      <td>...</td>\n",
       "      <td>...</td>\n",
       "    </tr>\n",
       "    <tr>\n",
       "      <th>2021-05-25</th>\n",
       "      <td>252.750000</td>\n",
       "      <td>250.820007</td>\n",
       "      <td>251.770004</td>\n",
       "      <td>251.720001</td>\n",
       "      <td>17704300.0</td>\n",
       "      <td>251.239029</td>\n",
       "    </tr>\n",
       "    <tr>\n",
       "      <th>2021-05-26</th>\n",
       "      <td>252.940002</td>\n",
       "      <td>250.750000</td>\n",
       "      <td>251.429993</td>\n",
       "      <td>251.490005</td>\n",
       "      <td>17771600.0</td>\n",
       "      <td>251.009476</td>\n",
       "    </tr>\n",
       "    <tr>\n",
       "      <th>2021-05-27</th>\n",
       "      <td>251.479996</td>\n",
       "      <td>249.250000</td>\n",
       "      <td>251.169998</td>\n",
       "      <td>249.309998</td>\n",
       "      <td>24426200.0</td>\n",
       "      <td>248.833633</td>\n",
       "    </tr>\n",
       "    <tr>\n",
       "      <th>2021-05-28</th>\n",
       "      <td>252.080002</td>\n",
       "      <td>249.559998</td>\n",
       "      <td>251.000000</td>\n",
       "      <td>249.679993</td>\n",
       "      <td>18270200.0</td>\n",
       "      <td>249.202911</td>\n",
       "    </tr>\n",
       "    <tr>\n",
       "      <th>2021-06-01</th>\n",
       "      <td>251.289993</td>\n",
       "      <td>246.960007</td>\n",
       "      <td>251.229996</td>\n",
       "      <td>247.399994</td>\n",
       "      <td>23213300.0</td>\n",
       "      <td>246.927277</td>\n",
       "    </tr>\n",
       "  </tbody>\n",
       "</table>\n",
       "<p>253 rows × 6 columns</p>\n",
       "</div>"
      ],
      "text/plain": [
       "                  High         Low        Open       Close      Volume  \\\n",
       "Date                                                                     \n",
       "2020-06-01  183.000000  181.460007  182.539993  182.830002  22622400.0   \n",
       "2020-06-02  185.000000  181.350006  184.250000  184.910004  30794600.0   \n",
       "2020-06-03  185.940002  183.580002  184.820007  185.360001  27311000.0   \n",
       "2020-06-04  185.839996  182.300003  184.300003  182.919998  28761800.0   \n",
       "2020-06-05  187.729996  182.009995  182.619995  187.199997  39893600.0   \n",
       "...                ...         ...         ...         ...         ...   \n",
       "2021-05-25  252.750000  250.820007  251.770004  251.720001  17704300.0   \n",
       "2021-05-26  252.940002  250.750000  251.429993  251.490005  17771600.0   \n",
       "2021-05-27  251.479996  249.250000  251.169998  249.309998  24426200.0   \n",
       "2021-05-28  252.080002  249.559998  251.000000  249.679993  18270200.0   \n",
       "2021-06-01  251.289993  246.960007  251.229996  247.399994  23213300.0   \n",
       "\n",
       "             Adj Close  \n",
       "Date                    \n",
       "2020-06-01  180.730728  \n",
       "2020-06-02  182.786850  \n",
       "2020-06-03  183.231674  \n",
       "2020-06-04  180.819687  \n",
       "2020-06-05  185.050537  \n",
       "...                ...  \n",
       "2021-05-25  251.239029  \n",
       "2021-05-26  251.009476  \n",
       "2021-05-27  248.833633  \n",
       "2021-05-28  249.202911  \n",
       "2021-06-01  246.927277  \n",
       "\n",
       "[253 rows x 6 columns]"
      ]
     },
     "execution_count": 71,
     "metadata": {},
     "output_type": "execute_result"
    }
   ],
   "source": [
    "msft_df"
   ]
  },
  {
   "cell_type": "code",
   "execution_count": 72,
   "id": "552d6652",
   "metadata": {},
   "outputs": [],
   "source": [
    "aapl_df['Daily Return'] = aapl_df['Adj Close'].pct_change(1)"
   ]
  },
  {
   "cell_type": "code",
   "execution_count": 73,
   "id": "8a1ae620",
   "metadata": {},
   "outputs": [],
   "source": [
    "msft_df['Daily Return'] = msft_df['Adj Close'].pct_change(1)"
   ]
  },
  {
   "cell_type": "code",
   "execution_count": 74,
   "id": "fbdfd9d5",
   "metadata": {},
   "outputs": [],
   "source": [
    "aapl_df = aapl_df.dropna()"
   ]
  },
  {
   "cell_type": "code",
   "execution_count": 75,
   "id": "deddaa8c",
   "metadata": {},
   "outputs": [],
   "source": [
    "msft_df = msft_df.dropna()"
   ]
  },
  {
   "cell_type": "code",
   "execution_count": 76,
   "id": "92c539ba",
   "metadata": {},
   "outputs": [
    {
     "data": {
      "text/plain": [
       "0.022217213165663097"
      ]
     },
     "execution_count": 76,
     "metadata": {},
     "output_type": "execute_result"
    }
   ],
   "source": [
    "aapl_df['Daily Return'].std()"
   ]
  },
  {
   "cell_type": "code",
   "execution_count": 84,
   "id": "78e36c2b",
   "metadata": {},
   "outputs": [],
   "source": [
    "def compute_sharpe_ratio(df, risk_free_rate=0):\n",
    "    mean_return = df['Daily Return'].mean()\n",
    "    std = df['Daily Return'].std()\n",
    "    sharpe_ratio = (mean_return-risk_free_rate)/std\n",
    "    return sharpe_ratio * (len(df)**0.5)"
   ]
  },
  {
   "cell_type": "code",
   "execution_count": 85,
   "id": "d5cf4e31",
   "metadata": {},
   "outputs": [
    {
     "data": {
      "text/plain": [
       "1.4280819681493646"
      ]
     },
     "execution_count": 85,
     "metadata": {},
     "output_type": "execute_result"
    }
   ],
   "source": [
    "compute_sharpe_ratio(aapl_df)"
   ]
  },
  {
   "cell_type": "code",
   "execution_count": 86,
   "id": "145586d2",
   "metadata": {},
   "outputs": [
    {
     "data": {
      "text/plain": [
       "1.2599509025723445"
      ]
     },
     "execution_count": 86,
     "metadata": {},
     "output_type": "execute_result"
    }
   ],
   "source": [
    "compute_sharpe_ratio(msft_df)"
   ]
  },
  {
   "cell_type": "code",
   "execution_count": 92,
   "id": "6ad320c9",
   "metadata": {},
   "outputs": [],
   "source": [
    "def compute_sortino_ratio(df, threshold=0, risk_free_rate=0):\n",
    "    mean_return = df['Daily Return'].mean()\n",
    "    threshold_std = df[df['Daily Return']< threshold]['Daily Return'].std()\n",
    "    sortino_ratio = (mean_return-risk_free_rate)/threshold_std\n",
    "    return sortino_ratio * (252**0.5)"
   ]
  },
  {
   "cell_type": "code",
   "execution_count": 93,
   "id": "730c3b63",
   "metadata": {},
   "outputs": [
    {
     "data": {
      "text/plain": [
       "2.158639382941981"
      ]
     },
     "execution_count": 93,
     "metadata": {},
     "output_type": "execute_result"
    }
   ],
   "source": [
    "compute_sortino_ratio(aapl_df)"
   ]
  },
  {
   "cell_type": "code",
   "execution_count": 95,
   "id": "67dd89fb",
   "metadata": {},
   "outputs": [
    {
     "data": {
      "text/plain": [
       "<AxesSubplot:xlabel='Date'>"
      ]
     },
     "execution_count": 95,
     "metadata": {},
     "output_type": "execute_result"
    },
    {
     "data": {
      "image/png": "[encoded data removed]",
      "text/plain": [
       "<Figure size 432x288 with 1 Axes>"
      ]
     },
     "metadata": {
      "needs_background": "light"
     },
     "output_type": "display_data"
    }
   ],
   "source": [
    "aapl_df['Adj Close'].plot()"
   ]
  },
  {
   "cell_type": "code",
   "execution_count": 96,
   "id": "142cef55",
   "metadata": {},
   "outputs": [
    {
     "data": {
      "text/plain": [
       "1.801924800315661"
      ]
     },
     "execution_count": 96,
     "metadata": {},
     "output_type": "execute_result"
    }
   ],
   "source": [
    "compute_sortino_ratio(msft_df)"
   ]
  },
  {
   "cell_type": "code",
   "execution_count": 97,
   "id": "e0f22435",
   "metadata": {},
   "outputs": [
    {
     "data": {
      "text/plain": [
       "<AxesSubplot:xlabel='Date'>"
      ]
     },
     "execution_count": 97,
     "metadata": {},
     "output_type": "execute_result"
    },
    {
     "data": {
      "image/png": "[encoded data removed]",
      "text/plain": [
       "<Figure size 432x288 with 1 Axes>"
      ]
     },
     "metadata": {
      "needs_background": "light"
     },
     "output_type": "display_data"
    }
   ],
   "source": [
    "msft_df['Adj Close'].plot()"
   ]
  },
  {
   "cell_type": "code",
   "execution_count": null,
   "id": "fb4db351",
   "metadata": {},
   "outputs": [],
   "source": []
  }
 ],
 "metadata": {
  "kernelspec": {
   "display_name": "Python 3 (ipykernel)",
   "language": "python",
   "name": "python3"
  },
  "language_info": {
   "codemirror_mode": {
    "name": "ipython",
    "version": 3
   },
   "file_extension": ".py",
   "mimetype": "text/x-python",
   "name": "python",
   "nbconvert_exporter": "python",
   "pygments_lexer": "ipython3",
   "version": "3.9.7"
  }
 },
 "nbformat": 4,
 "nbformat_minor": 5
}
